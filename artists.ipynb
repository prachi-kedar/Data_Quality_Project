{
 "cells": [
  {
   "cell_type": "markdown",
   "id": "c6fe34ad-c26f-4763-8ed0-336af414499c",
   "metadata": {},
   "source": [
    "#### data laoding"
   ]
  },
  {
   "cell_type": "code",
   "execution_count": 18,
   "id": "c8a2bc08-2f0e-4196-9325-8af924e2a196",
   "metadata": {},
   "outputs": [
    {
     "data": {
      "text/html": [
       "<div>\n",
       "<style scoped>\n",
       "    .dataframe tbody tr th:only-of-type {\n",
       "        vertical-align: middle;\n",
       "    }\n",
       "\n",
       "    .dataframe tbody tr th {\n",
       "        vertical-align: top;\n",
       "    }\n",
       "\n",
       "    .dataframe thead th {\n",
       "        text-align: right;\n",
       "    }\n",
       "</style>\n",
       "<table border=\"1\" class=\"dataframe\">\n",
       "  <thead>\n",
       "    <tr style=\"text-align: right;\">\n",
       "      <th></th>\n",
       "      <th>Artist ID</th>\n",
       "      <th>Name</th>\n",
       "      <th>Nationality</th>\n",
       "      <th>Gender</th>\n",
       "      <th>Birth Year</th>\n",
       "      <th>Death Year</th>\n",
       "    </tr>\n",
       "  </thead>\n",
       "  <tbody>\n",
       "    <tr>\n",
       "      <th>0</th>\n",
       "      <td>1</td>\n",
       "      <td>Robert Arneson</td>\n",
       "      <td>American</td>\n",
       "      <td>Male</td>\n",
       "      <td>1930.0</td>\n",
       "      <td>1992.0</td>\n",
       "    </tr>\n",
       "    <tr>\n",
       "      <th>1</th>\n",
       "      <td>2</td>\n",
       "      <td>Doroteo Arnaiz</td>\n",
       "      <td>Spanish</td>\n",
       "      <td>Male</td>\n",
       "      <td>1936.0</td>\n",
       "      <td>NaN</td>\n",
       "    </tr>\n",
       "    <tr>\n",
       "      <th>2</th>\n",
       "      <td>3</td>\n",
       "      <td>Bill Arnold</td>\n",
       "      <td>American</td>\n",
       "      <td>Male</td>\n",
       "      <td>1941.0</td>\n",
       "      <td>NaN</td>\n",
       "    </tr>\n",
       "    <tr>\n",
       "      <th>3</th>\n",
       "      <td>4</td>\n",
       "      <td>Charles Arnoldi</td>\n",
       "      <td>American</td>\n",
       "      <td>Male</td>\n",
       "      <td>1946.0</td>\n",
       "      <td>NaN</td>\n",
       "    </tr>\n",
       "    <tr>\n",
       "      <th>4</th>\n",
       "      <td>5</td>\n",
       "      <td>Per Arnoldi</td>\n",
       "      <td>Danish</td>\n",
       "      <td>Male</td>\n",
       "      <td>1941.0</td>\n",
       "      <td>NaN</td>\n",
       "    </tr>\n",
       "  </tbody>\n",
       "</table>\n",
       "</div>"
      ],
      "text/plain": [
       "   Artist ID             Name Nationality Gender  Birth Year  Death Year\n",
       "0          1   Robert Arneson    American   Male      1930.0      1992.0\n",
       "1          2   Doroteo Arnaiz     Spanish   Male      1936.0         NaN\n",
       "2          3      Bill Arnold    American   Male      1941.0         NaN\n",
       "3          4  Charles Arnoldi    American   Male      1946.0         NaN\n",
       "4          5      Per Arnoldi      Danish   Male      1941.0         NaN"
      ]
     },
     "execution_count": 18,
     "metadata": {},
     "output_type": "execute_result"
    }
   ],
   "source": [
    "\n",
    "import pandas as pd\n",
    "pd.set_option('display.max_rows', None)\n",
    "pd.set_option('display.max_columns', None)\n",
    "artist_data = pd.read_csv('artists.csv')\n",
    "artist_data.head()"
   ]
  },
  {
   "cell_type": "code",
   "execution_count": 19,
   "id": "80996074-f943-48bb-b826-12f65009e7c1",
   "metadata": {},
   "outputs": [
    {
     "data": {
      "text/plain": [
       "(15091, 6)"
      ]
     },
     "execution_count": 19,
     "metadata": {},
     "output_type": "execute_result"
    }
   ],
   "source": [
    "# shape of the data\n",
    "artist_data.shape"
   ]
  },
  {
   "cell_type": "code",
   "execution_count": 21,
   "id": "21ca71c5-8e48-4771-ba48-95fa01c3d4f1",
   "metadata": {},
   "outputs": [
    {
     "data": {
      "text/plain": [
       "Artist ID        int64\n",
       "Name            object\n",
       "Nationality     object\n",
       "Gender          object\n",
       "Birth Year     float64\n",
       "Death Year     float64\n",
       "dtype: object"
      ]
     },
     "execution_count": 21,
     "metadata": {},
     "output_type": "execute_result"
    }
   ],
   "source": [
    "# column and data type of each column\n",
    "artist_data.dtypes"
   ]
  },
  {
   "cell_type": "code",
   "execution_count": 22,
   "id": "e8c31cb4-aaba-4971-95b3-eb1afe183bed",
   "metadata": {},
   "outputs": [
    {
     "name": "stdout",
     "output_type": "stream",
     "text": [
      "Artist ID          0\n",
      "Name               0\n",
      "Nationality     2488\n",
      "Gender          3072\n",
      "Birth Year      3854\n",
      "Death Year     10512\n",
      "dtype: int64\n"
     ]
    }
   ],
   "source": [
    "# check missing data\n",
    "missing_counts = artist_data.isna().sum()\n",
    "print(missing_counts)"
   ]
  },
  {
   "cell_type": "code",
   "execution_count": 23,
   "id": "a9eb75db-22b3-42f3-804c-72b0e5f98b88",
   "metadata": {},
   "outputs": [
    {
     "data": {
      "text/plain": [
       "Gender\n",
       "Male      9820\n",
       "Female    2193\n",
       "male         6\n",
       "Name: count, dtype: int64"
      ]
     },
     "execution_count": 23,
     "metadata": {},
     "output_type": "execute_result"
    }
   ],
   "source": [
    "# check unique values in Gender column\n",
    "artist_data['Gender'].value_counts()"
   ]
  },
  {
   "cell_type": "code",
   "execution_count": 24,
   "id": "70f34a37-bb35-4ff3-ab84-a317f1ccc973",
   "metadata": {},
   "outputs": [],
   "source": [
    "# replacing 'male' with 'Male'\n",
    "artist_data['Gender'] = artist_data['Gender'].replace('male', 'Male')"
   ]
  },
  {
   "cell_type": "code",
   "execution_count": 25,
   "id": "83b96850-30fb-440e-968f-79a87aa8bdae",
   "metadata": {},
   "outputs": [
    {
     "data": {
      "text/plain": [
       "Nationality\n",
       "American               5198\n",
       "German                  930\n",
       "French                  839\n",
       "British                 835\n",
       "Italian                 531\n",
       "Japanese                498\n",
       "Swiss                   280\n",
       "Dutch                   265\n",
       "Nationality unknown     255\n",
       "Austrian                243\n",
       "Canadian                196\n",
       "Russian                 188\n",
       "Brazilian               155\n",
       "Spanish                 153\n",
       "Argentine               139\n",
       "Swedish                 130\n",
       "Mexican                 128\n",
       "Polish                  125\n",
       "Danish                  119\n",
       "Belgian                  89\n",
       "Czech                    83\n",
       "Chinese                  81\n",
       "Israeli                  75\n",
       "South African            69\n",
       "Chilean                  61\n",
       "Finnish                  60\n",
       "Cuban                    58\n",
       "Australian               56\n",
       "Hungarian                52\n",
       "Norwegian                49\n",
       "Colombian                42\n",
       "Venezuelan               41\n",
       "Korean                   35\n",
       "Peruvian                 34\n",
       "Scottish                 28\n",
       "Indian                   28\n",
       "Turkish                  26\n",
       "Croatian                 25\n",
       "Yugoslav                 24\n",
       "Uruguayan                21\n",
       "Iranian                  21\n",
       "Romanian                 20\n",
       "Irish                    19\n",
       "Portuguese               17\n",
       "Haitian                  17\n",
       "New Zealander            16\n",
       "Greek                    13\n",
       "Icelandic                11\n",
       "Ukrainian                11\n",
       "Bosnian                   8\n",
       "Egyptian                  8\n",
       "Slovak                    8\n",
       "Taiwanese                 7\n",
       "Georgian                  7\n",
       "Vietnamese                7\n",
       "Algerian                  6\n",
       "Slovenian                 6\n",
       "Serbian                   6\n",
       "Czechoslovakian           6\n",
       "Lebanese                  6\n",
       "Guatemalan                5\n",
       "Puerto Rican              5\n",
       "Moroccan                  5\n",
       "Tunisian                  4\n",
       "Bulgarian                 4\n",
       "Palestinian               4\n",
       "Zimbabwean                4\n",
       "Ecuadorian                4\n",
       "Iraqi                     4\n",
       "Luxembourgish             4\n",
       "Albanian                  4\n",
       "Canadian Inuit            3\n",
       "Pakistani                 3\n",
       "Estonian                  3\n",
       "Filipino                  3\n",
       "Kyrgyzstani               3\n",
       "Malian                    3\n",
       "Bolivian                  3\n",
       "Singaporean               3\n",
       "Thai                      3\n",
       "Senegalese                3\n",
       "Ghanaian                  3\n",
       "Nigerian                  3\n",
       "Welsh                     2\n",
       "nationality unknown       2\n",
       "Kazakhstani               2\n",
       "Namibian                  2\n",
       "Malaysian                 2\n",
       "Nicaraguan                2\n",
       "Latvian                   2\n",
       "Lithuanian                2\n",
       "Congolese                 2\n",
       "Costa Rican               2\n",
       "Various                   2\n",
       "Nationality Unknown       2\n",
       "Panamanian                2\n",
       "Kenyan                    2\n",
       "Mozambican                1\n",
       "Angolan                   1\n",
       "Guyanese                  1\n",
       "Macedonian                1\n",
       "Burkinabe                 1\n",
       "Indonesian                1\n",
       "Rwandan                   1\n",
       "Kuwaiti                   1\n",
       "Saudi Arabian             1\n",
       "Catalan                   1\n",
       "Syrian                    1\n",
       "Cypriot                   1\n",
       "Cameroonian               1\n",
       "Mauritanian               1\n",
       "Emirati                   1\n",
       "Ugandan                   1\n",
       "Paraguayan                1\n",
       "Tanzanian                 1\n",
       "Sudanese                  1\n",
       "Ethiopian                 1\n",
       "Native American           1\n",
       "Afghan                    1\n",
       "Cambodian                 1\n",
       "Tajik                     1\n",
       "Bahamian                  1\n",
       "Ivorian                   1\n",
       "Azerbaijani               1\n",
       "Sahrawi                   1\n",
       "Name: count, dtype: int64"
      ]
     },
     "execution_count": 25,
     "metadata": {},
     "output_type": "execute_result"
    }
   ],
   "source": [
    "# check unique value in Nationality column\n",
    "artist_data['Nationality'].value_counts()"
   ]
  },
  {
   "cell_type": "code",
   "execution_count": 26,
   "id": "af42287b-7650-4153-8c51-9f8278e40c8d",
   "metadata": {},
   "outputs": [],
   "source": [
    "# keeping single value of unkonwn nationalitu\n",
    "artist_data['Nationality'] = artist_data['Nationality'].replace('nationality unknown', 'Nationality unknown')"
   ]
  },
  {
   "cell_type": "code",
   "execution_count": 23,
   "id": "ebb10fb4-f13c-45d8-8aa4-4e9cfb0cbbdd",
   "metadata": {},
   "outputs": [],
   "source": [
    "Function to check if a word starts with \"Unkn\"\n",
    "def starts_with_unkn(word):\n",
    "    return word.startswith(\"Unkn\")\n",
    "\n",
    "# Find rows where any word in 'Column1' or 'Column2' starts with \"Unkn\"\n",
    "filtered_df = artist_data[artist_data.applymap(lambda x: isinstance(x, str) and starts_with_unkn(x)).any(axis=1)]\n"
   ]
  },
  {
   "cell_type": "code",
   "execution_count": 15,
   "id": "208ae214-601c-41e9-8575-c033785c22b9",
   "metadata": {},
   "outputs": [
    {
     "name": "stderr",
     "output_type": "stream",
     "text": [
      "C:\\Users\\prach\\AppData\\Local\\Temp\\ipykernel_22240\\804803624.py:1: FutureWarning: DataFrame.applymap has been deprecated. Use DataFrame.map instead.\n",
      "  artist_data = artist_data.applymap(lambda x: 'Unknown' if isinstance(x, str) and starts_with_unkn(x) else x)\n"
     ]
    }
   ],
   "source": [
    "artist_data = artist_data.applymap(lambda x: 'Unknown' if isinstance(x, str) and starts_with_unkn(x) else x)"
   ]
  },
  {
   "cell_type": "code",
   "execution_count": 27,
   "id": "1fde5310-0fbf-4a95-afe6-e3712fb3b8dd",
   "metadata": {},
   "outputs": [
    {
     "data": {
      "text/html": [
       "<div>\n",
       "<style scoped>\n",
       "    .dataframe tbody tr th:only-of-type {\n",
       "        vertical-align: middle;\n",
       "    }\n",
       "\n",
       "    .dataframe tbody tr th {\n",
       "        vertical-align: top;\n",
       "    }\n",
       "\n",
       "    .dataframe thead th {\n",
       "        text-align: right;\n",
       "    }\n",
       "</style>\n",
       "<table border=\"1\" class=\"dataframe\">\n",
       "  <thead>\n",
       "    <tr style=\"text-align: right;\">\n",
       "      <th></th>\n",
       "      <th>Artist ID</th>\n",
       "      <th>Name</th>\n",
       "      <th>Nationality</th>\n",
       "      <th>Gender</th>\n",
       "      <th>Birth Year</th>\n",
       "      <th>Death Year</th>\n",
       "    </tr>\n",
       "  </thead>\n",
       "  <tbody>\n",
       "    <tr>\n",
       "      <th>5397</th>\n",
       "      <td>6013</td>\n",
       "      <td>Unknown Designer</td>\n",
       "      <td>French</td>\n",
       "      <td>NaN</td>\n",
       "      <td>NaN</td>\n",
       "      <td>NaN</td>\n",
       "    </tr>\n",
       "    <tr>\n",
       "      <th>5398</th>\n",
       "      <td>6014</td>\n",
       "      <td>Unknown Designer</td>\n",
       "      <td>German</td>\n",
       "      <td>NaN</td>\n",
       "      <td>NaN</td>\n",
       "      <td>NaN</td>\n",
       "    </tr>\n",
       "    <tr>\n",
       "      <th>5399</th>\n",
       "      <td>6015</td>\n",
       "      <td>Unknown Designer</td>\n",
       "      <td>Dutch</td>\n",
       "      <td>NaN</td>\n",
       "      <td>NaN</td>\n",
       "      <td>NaN</td>\n",
       "    </tr>\n",
       "    <tr>\n",
       "      <th>5400</th>\n",
       "      <td>6016</td>\n",
       "      <td>Unknown Designer</td>\n",
       "      <td>Italian</td>\n",
       "      <td>NaN</td>\n",
       "      <td>NaN</td>\n",
       "      <td>NaN</td>\n",
       "    </tr>\n",
       "    <tr>\n",
       "      <th>5401</th>\n",
       "      <td>6017</td>\n",
       "      <td>Unknown Designer</td>\n",
       "      <td>Mexican</td>\n",
       "      <td>NaN</td>\n",
       "      <td>NaN</td>\n",
       "      <td>NaN</td>\n",
       "    </tr>\n",
       "  </tbody>\n",
       "</table>\n",
       "</div>"
      ],
      "text/plain": [
       "      Artist ID              Name Nationality Gender  Birth Year  Death Year\n",
       "5397       6013  Unknown Designer      French    NaN         NaN         NaN\n",
       "5398       6014  Unknown Designer      German    NaN         NaN         NaN\n",
       "5399       6015  Unknown Designer       Dutch    NaN         NaN         NaN\n",
       "5400       6016  Unknown Designer     Italian    NaN         NaN         NaN\n",
       "5401       6017  Unknown Designer     Mexican    NaN         NaN         NaN"
      ]
     },
     "execution_count": 27,
     "metadata": {},
     "output_type": "execute_result"
    }
   ],
   "source": [
    "# checking duplicate values\n",
    "artist_data[artist_data['Name'].duplicated()].head()"
   ]
  },
  {
   "cell_type": "code",
   "execution_count": 28,
   "id": "939b91ae-88ed-48b4-856e-4fd42a03308c",
   "metadata": {},
   "outputs": [
    {
     "name": "stdout",
     "output_type": "stream",
     "text": [
      "78.0%\n"
     ]
    }
   ],
   "source": [
    "# checking completness of the data\n",
    "COMPLETENESS = '{0:.1f}%'.format((artist_data.count().sum())/((artist_data.count().sum())+(artist_data.isnull().sum().sum())) *100)\n",
    "print(COMPLETENESS)"
   ]
  },
  {
   "cell_type": "markdown",
   "id": "d8989dee-9f6e-43d5-b818-33bcd6083d5b",
   "metadata": {},
   "source": [
    "### Artworks Data"
   ]
  },
  {
   "cell_type": "code",
   "execution_count": 3,
   "id": "4eb9c0ef-f33b-4b8e-8752-7dc56d5b0fb3",
   "metadata": {},
   "outputs": [
    {
     "data": {
      "text/html": [
       "<div>\n",
       "<style scoped>\n",
       "    .dataframe tbody tr th:only-of-type {\n",
       "        vertical-align: middle;\n",
       "    }\n",
       "\n",
       "    .dataframe tbody tr th {\n",
       "        vertical-align: top;\n",
       "    }\n",
       "\n",
       "    .dataframe thead th {\n",
       "        text-align: right;\n",
       "    }\n",
       "</style>\n",
       "<table border=\"1\" class=\"dataframe\">\n",
       "  <thead>\n",
       "    <tr style=\"text-align: right;\">\n",
       "      <th></th>\n",
       "      <th>Artwork ID</th>\n",
       "      <th>Title</th>\n",
       "      <th>Artist ID</th>\n",
       "      <th>Name</th>\n",
       "      <th>Date</th>\n",
       "      <th>Medium</th>\n",
       "      <th>Dimensions</th>\n",
       "      <th>Acquisition Date</th>\n",
       "      <th>Credit</th>\n",
       "      <th>Catalogue</th>\n",
       "      <th>Department</th>\n",
       "      <th>Classification</th>\n",
       "      <th>Object Number</th>\n",
       "      <th>Diameter (cm)</th>\n",
       "      <th>Circumference (cm)</th>\n",
       "      <th>Height (cm)</th>\n",
       "      <th>Length (cm)</th>\n",
       "      <th>Width (cm)</th>\n",
       "      <th>Depth (cm)</th>\n",
       "      <th>Weight (kg)</th>\n",
       "      <th>Duration (s)</th>\n",
       "    </tr>\n",
       "  </thead>\n",
       "  <tbody>\n",
       "    <tr>\n",
       "      <th>0</th>\n",
       "      <td>2</td>\n",
       "      <td>Ferdinandsbrücke Project, Vienna, Austria, Ele...</td>\n",
       "      <td>6210</td>\n",
       "      <td>Otto Wagner</td>\n",
       "      <td>1896</td>\n",
       "      <td>Ink and cut-and-pasted painted pages on paper</td>\n",
       "      <td>19 1/8 x 66 1/2\" (48.6 x 168.9 cm)</td>\n",
       "      <td>1996-04-09</td>\n",
       "      <td>Fractional and promised gift of Jo Carole and ...</td>\n",
       "      <td>Y</td>\n",
       "      <td>Architecture &amp; Design</td>\n",
       "      <td>Architecture</td>\n",
       "      <td>885.1996</td>\n",
       "      <td>NaN</td>\n",
       "      <td>NaN</td>\n",
       "      <td>48.6000</td>\n",
       "      <td>NaN</td>\n",
       "      <td>168.9000</td>\n",
       "      <td>NaN</td>\n",
       "      <td>NaN</td>\n",
       "      <td>NaN</td>\n",
       "    </tr>\n",
       "    <tr>\n",
       "      <th>1</th>\n",
       "      <td>3</td>\n",
       "      <td>City of Music, National Superior Conservatory ...</td>\n",
       "      <td>7470</td>\n",
       "      <td>Christian de Portzamparc</td>\n",
       "      <td>1987</td>\n",
       "      <td>Paint and colored pencil on print</td>\n",
       "      <td>16 x 11 3/4\" (40.6 x 29.8 cm)</td>\n",
       "      <td>1995-01-17</td>\n",
       "      <td>Gift of the architect in honor of Lily Auchinc...</td>\n",
       "      <td>Y</td>\n",
       "      <td>Architecture &amp; Design</td>\n",
       "      <td>Architecture</td>\n",
       "      <td>1.1995</td>\n",
       "      <td>NaN</td>\n",
       "      <td>NaN</td>\n",
       "      <td>40.6401</td>\n",
       "      <td>NaN</td>\n",
       "      <td>29.8451</td>\n",
       "      <td>NaN</td>\n",
       "      <td>NaN</td>\n",
       "      <td>NaN</td>\n",
       "    </tr>\n",
       "  </tbody>\n",
       "</table>\n",
       "</div>"
      ],
      "text/plain": [
       "   Artwork ID                                              Title Artist ID  \\\n",
       "0           2  Ferdinandsbrücke Project, Vienna, Austria, Ele...      6210   \n",
       "1           3  City of Music, National Superior Conservatory ...      7470   \n",
       "\n",
       "                       Name  Date  \\\n",
       "0               Otto Wagner  1896   \n",
       "1  Christian de Portzamparc  1987   \n",
       "\n",
       "                                          Medium  \\\n",
       "0  Ink and cut-and-pasted painted pages on paper   \n",
       "1              Paint and colored pencil on print   \n",
       "\n",
       "                           Dimensions Acquisition Date  \\\n",
       "0  19 1/8 x 66 1/2\" (48.6 x 168.9 cm)       1996-04-09   \n",
       "1       16 x 11 3/4\" (40.6 x 29.8 cm)       1995-01-17   \n",
       "\n",
       "                                              Credit Catalogue  \\\n",
       "0  Fractional and promised gift of Jo Carole and ...         Y   \n",
       "1  Gift of the architect in honor of Lily Auchinc...         Y   \n",
       "\n",
       "              Department Classification Object Number  Diameter (cm)  \\\n",
       "0  Architecture & Design   Architecture      885.1996            NaN   \n",
       "1  Architecture & Design   Architecture        1.1995            NaN   \n",
       "\n",
       "   Circumference (cm)  Height (cm)  Length (cm)  Width (cm)  Depth (cm)  \\\n",
       "0                 NaN      48.6000          NaN    168.9000         NaN   \n",
       "1                 NaN      40.6401          NaN     29.8451         NaN   \n",
       "\n",
       "   Weight (kg)  Duration (s)  \n",
       "0          NaN           NaN  \n",
       "1          NaN           NaN  "
      ]
     },
     "execution_count": 3,
     "metadata": {},
     "output_type": "execute_result"
    }
   ],
   "source": [
    "artworks_data = pd.read_csv('artworks.csv')\n",
    "artworks_data.head(2)"
   ]
  },
  {
   "cell_type": "code",
   "execution_count": 3,
   "id": "0018544d-ac47-4df9-809a-704a2ad1e921",
   "metadata": {},
   "outputs": [
    {
     "data": {
      "text/plain": [
       "(130262, 21)"
      ]
     },
     "execution_count": 3,
     "metadata": {},
     "output_type": "execute_result"
    }
   ],
   "source": [
    "artworks_data.shape"
   ]
  },
  {
   "cell_type": "code",
   "execution_count": 4,
   "id": "97a78293-6521-498c-8e14-ca641813bcd3",
   "metadata": {},
   "outputs": [
    {
     "data": {
      "text/plain": [
       "Artwork ID                 0\n",
       "Title                     62\n",
       "Artist ID               1460\n",
       "Name                    1460\n",
       "Date                    2312\n",
       "Medium                 11919\n",
       "Dimensions             11463\n",
       "Acquisition Date        5463\n",
       "Credit                  3070\n",
       "Catalogue                  0\n",
       "Department                 0\n",
       "Classification             0\n",
       "Object Number              0\n",
       "Diameter (cm)         128863\n",
       "Circumference (cm)    130252\n",
       "Height (cm)            18369\n",
       "Length (cm)           129526\n",
       "Width (cm)             19259\n",
       "Depth (cm)            118819\n",
       "Weight (kg)           129964\n",
       "Duration (s)          127178\n",
       "dtype: int64"
      ]
     },
     "execution_count": 4,
     "metadata": {},
     "output_type": "execute_result"
    }
   ],
   "source": [
    "artworks_data.isna().sum()"
   ]
  },
  {
   "cell_type": "code",
   "execution_count": 13,
   "id": "f51537b4-85da-49b9-872f-9f3557f5049e",
   "metadata": {},
   "outputs": [],
   "source": [
    "artworks_data = artworks_data.drop_duplicates(subset=['Artist ID', 'Title', 'Name'], keep='first')"
   ]
  },
  {
   "cell_type": "code",
   "execution_count": 14,
   "id": "e0436bef-8860-4f8a-a940-764bca5b6ae3",
   "metadata": {},
   "outputs": [
    {
     "data": {
      "text/plain": [
       "(100353, 21)"
      ]
     },
     "execution_count": 14,
     "metadata": {},
     "output_type": "execute_result"
    }
   ],
   "source": [
    "artworks_data.shape"
   ]
  },
  {
   "cell_type": "code",
   "execution_count": 17,
   "id": "52d262cf-bc5c-4002-98b5-8a317b4c30a9",
   "metadata": {},
   "outputs": [
    {
     "data": {
      "text/plain": [
       "Classification\n",
       "Illustrated Book                  24899\n",
       "Print                             21961\n",
       "Photograph                        19932\n",
       "Design                             9214\n",
       "Drawing                            8081\n",
       "Film                               2256\n",
       "Mies van der Rohe Archive          2211\n",
       "Video                              2148\n",
       "Painting                           2119\n",
       "Architecture                       1733\n",
       "Sculpture                          1495\n",
       "(not assigned)                      797\n",
       "Multiple                            774\n",
       "Periodical                          707\n",
       "Frank Lloyd Wright Archive          452\n",
       "Installation                        448\n",
       "Audio                               398\n",
       "Work on Paper                       333\n",
       "Media                               265\n",
       "Ephemera                             62\n",
       "Textile                              30\n",
       "Performance                          20\n",
       "Collage                               8\n",
       "Photography Research/Reference        4\n",
       "Software                              3\n",
       "Film (object)                         2\n",
       "Product Design                        1\n",
       "Name: count, dtype: int64"
      ]
     },
     "execution_count": 17,
     "metadata": {},
     "output_type": "execute_result"
    }
   ],
   "source": [
    "clssification_count = artworks_data['Classification'].value_counts()\n",
    "clssification_count"
   ]
  }
 ],
 "metadata": {
  "kernelspec": {
   "display_name": "Python 3 (ipykernel)",
   "language": "python",
   "name": "python3"
  },
  "language_info": {
   "codemirror_mode": {
    "name": "ipython",
    "version": 3
   },
   "file_extension": ".py",
   "mimetype": "text/x-python",
   "name": "python",
   "nbconvert_exporter": "python",
   "pygments_lexer": "ipython3",
   "version": "3.9.2rc1"
  }
 },
 "nbformat": 4,
 "nbformat_minor": 5
}
